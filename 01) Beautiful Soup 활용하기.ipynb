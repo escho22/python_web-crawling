{
 "cells": [
  {
   "cell_type": "code",
   "execution_count": 3,
   "metadata": {},
   "outputs": [
    {
     "name": "stdout",
     "output_type": "stream",
     "text": [
      "Package                       Version\n",
      "----------------------------- -------------------\n",
      "alabaster                     0.7.12\n",
      "appdirs                       1.4.4\n",
      "argh                          0.26.2\n",
      "astroid                       2.5\n",
      "async-generator               1.10\n",
      "atomicwrites                  1.4.0\n",
      "attrs                         20.3.0\n",
      "autopep8                      1.5.6\n",
      "Babel                         2.9.0\n",
      "backcall                      0.2.0\n",
      "bcrypt                        3.2.0\n",
      "beautifulsoup4                4.9.3\n",
      "black                         19.10b0\n",
      "bleach                        3.3.0\n",
      "brotlipy                      0.7.0\n",
      "bs4                           0.0.1\n",
      "certifi                       2020.12.5\n",
      "cffi                          1.14.5\n",
      "chardet                       4.0.0\n",
      "click                         7.1.2\n",
      "cloudpickle                   1.6.0\n",
      "colorama                      0.4.4\n",
      "cryptography                  3.4.7\n",
      "cx-Oracle                     8.1.0\n",
      "cycler                        0.10.0\n",
      "decorator                     5.0.3\n",
      "defusedxml                    0.7.1\n",
      "diff-match-patch              20200713\n",
      "docutils                      0.16\n",
      "entrypoints                   0.3\n",
      "flake8                        3.9.0\n",
      "future                        0.18.2\n",
      "greenlet                      1.0.0\n",
      "idna                          2.10\n",
      "imagesize                     1.2.0\n",
      "importlib-metadata            3.7.3\n",
      "intervaltree                  3.1.0\n",
      "ipykernel                     5.3.4\n",
      "ipython                       7.22.0\n",
      "ipython-genutils              0.2.0\n",
      "isort                         5.8.0\n",
      "jedi                          0.17.2\n",
      "Jinja2                        2.11.3\n",
      "jsonschema                    3.2.0\n",
      "jupyter-client                6.1.12\n",
      "jupyter-core                  4.7.1\n",
      "jupyterlab-pygments           0.1.2\n",
      "keyring                       22.3.0\n",
      "kiwisolver                    1.3.1\n",
      "lazy-object-proxy             1.6.0\n",
      "MarkupSafe                    1.1.1\n",
      "matplotlib                    3.3.4\n",
      "mccabe                        0.6.1\n",
      "mistune                       0.8.4\n",
      "mkl-fft                       1.3.0\n",
      "mkl-random                    1.1.1\n",
      "mkl-service                   2.3.0\n",
      "mypy-extensions               0.4.3\n",
      "nbclient                      0.5.3\n",
      "nbconvert                     6.0.7\n",
      "nbformat                      5.1.3\n",
      "nest-asyncio                  1.5.1\n",
      "numpy                         1.19.2\n",
      "numpydoc                      1.1.0\n",
      "olefile                       0.46\n",
      "packaging                     20.9\n",
      "pandas                        1.2.3\n",
      "pandocfilters                 1.4.3\n",
      "paramiko                      2.7.2\n",
      "parso                         0.7.0\n",
      "pathspec                      0.7.0\n",
      "pexpect                       4.8.0\n",
      "pickleshare                   0.7.5\n",
      "Pillow                        8.2.0\n",
      "pip                           21.0.1\n",
      "pluggy                        0.13.1\n",
      "prompt-toolkit                3.0.17\n",
      "psutil                        5.8.0\n",
      "ptyprocess                    0.7.0\n",
      "pycodestyle                   2.6.0\n",
      "pycparser                     2.20\n",
      "pydocstyle                    6.0.0\n",
      "pyflakes                      2.2.0\n",
      "Pygments                      2.8.1\n",
      "pylint                        2.7.4\n",
      "pyls-black                    0.4.6\n",
      "pyls-spyder                   0.3.2\n",
      "PyNaCl                        1.4.0\n",
      "pyOpenSSL                     20.0.1\n",
      "pyparsing                     2.4.7\n",
      "pyrsistent                    0.17.3\n",
      "PySocks                       1.7.1\n",
      "python-dateutil               2.8.1\n",
      "python-jsonrpc-server         0.4.0\n",
      "python-language-server        0.36.2\n",
      "pytz                          2021.1\n",
      "pywin32                       227\n",
      "pywin32-ctypes                0.2.0\n",
      "PyYAML                        5.4.1\n",
      "pyzmq                         20.0.0\n",
      "QDarkStyle                    2.8.1\n",
      "QtAwesome                     1.0.2\n",
      "qtconsole                     5.0.3\n",
      "QtPy                          1.9.0\n",
      "regex                         2021.3.17\n",
      "requests                      2.25.1\n",
      "rope                          0.18.0\n",
      "Rtree                         0.9.4\n",
      "scipy                         1.6.2\n",
      "seaborn                       0.11.1\n",
      "setuptools                    52.0.0.post20210125\n",
      "six                           1.15.0\n",
      "snowballstemmer               2.1.0\n",
      "sortedcontainers              2.3.0\n",
      "soupsieve                     2.2.1\n",
      "Sphinx                        3.5.3\n",
      "sphinxcontrib-applehelp       1.0.2\n",
      "sphinxcontrib-devhelp         1.0.2\n",
      "sphinxcontrib-htmlhelp        1.0.3\n",
      "sphinxcontrib-jsmath          1.0.1\n",
      "sphinxcontrib-qthelp          1.0.3\n",
      "sphinxcontrib-serializinghtml 1.1.4\n",
      "spyder                        4.2.5\n",
      "spyder-kernels                1.10.2\n",
      "SQLAlchemy                    1.4.7\n",
      "testpath                      0.4.4\n",
      "textdistance                  4.2.1\n",
      "three-merge                   0.1.1\n",
      "toml                          0.10.2\n",
      "tornado                       6.1\n",
      "traitlets                     5.0.5\n",
      "typed-ast                     1.4.2\n",
      "typing-extensions             3.7.4.3\n",
      "ujson                         4.0.2\n",
      "urllib3                       1.26.4\n",
      "watchdog                      1.0.2\n",
      "wcwidth                       0.2.5\n",
      "webencodings                  0.5.1\n",
      "wheel                         0.36.2\n",
      "win-inet-pton                 1.1.0\n",
      "wincertstore                  0.2\n",
      "wrapt                         1.12.1\n",
      "yapf                          0.31.0\n",
      "zipp                          3.4.1\n"
     ]
    }
   ],
   "source": [
    "!pip list"
   ]
  },
  {
   "cell_type": "code",
   "execution_count": 2,
   "metadata": {},
   "outputs": [
    {
     "name": "stdout",
     "output_type": "stream",
     "text": [
      "Collecting bs4\n",
      "  Downloading bs4-0.0.1.tar.gz (1.1 kB)\n",
      "Collecting beautifulsoup4\n",
      "  Downloading beautifulsoup4-4.9.3-py3-none-any.whl (115 kB)\n",
      "Collecting soupsieve>1.2\n",
      "  Downloading soupsieve-2.2.1-py3-none-any.whl (33 kB)\n",
      "Building wheels for collected packages: bs4\n",
      "  Building wheel for bs4 (setup.py): started\n",
      "  Building wheel for bs4 (setup.py): finished with status 'done'\n",
      "  Created wheel for bs4: filename=bs4-0.0.1-py3-none-any.whl size=1273 sha256=89bd7717667f9f8ce1c101cdd4e982c402b2e2dedc8a395a823a385f2187062b\n",
      "  Stored in directory: c:\\users\\playdata\\appdata\\local\\pip\\cache\\wheels\\0a\\9e\\ba\\20e5bbc1afef3a491f0b3bb74d508f99403aabe76eda2167ca\n",
      "Successfully built bs4\n",
      "Installing collected packages: soupsieve, beautifulsoup4, bs4\n",
      "Successfully installed beautifulsoup4-4.9.3 bs4-0.0.1 soupsieve-2.2.1\n"
     ]
    }
   ],
   "source": [
    "!pip install bs4"
   ]
  },
  {
   "cell_type": "markdown",
   "metadata": {},
   "source": [
    "### soup.find()"
   ]
  },
  {
   "cell_type": "code",
   "execution_count": 4,
   "metadata": {},
   "outputs": [],
   "source": [
    "from bs4 import BeautifulSoup"
   ]
  },
  {
   "cell_type": "code",
   "execution_count": 5,
   "metadata": {},
   "outputs": [],
   "source": [
    "ex1 = '''\n",
    "<html>\n",
    "    <head>\n",
    "        <title>html 연습</html>\n",
    "    </head>\n",
    "    <body>\n",
    "        <p align = 'center'>text1</p>\n",
    "        <img src='c\\\\temp\\\\image\\\\솔개.png'>\n",
    "    </body>\n",
    "</html>\n",
    "'''"
   ]
  },
  {
   "cell_type": "code",
   "execution_count": 7,
   "metadata": {},
   "outputs": [
    {
     "name": "stdout",
     "output_type": "stream",
     "text": [
      "<title>html 연습</title>\n",
      "<p align=\"center\">text1</p>\n"
     ]
    }
   ],
   "source": [
    "soup = BeautifulSoup(ex1, 'html.parser') #뷰티풀숩으로 객체생성\n",
    "print(soup.find('title')) #find()\n",
    "print(soup.find('p'))"
   ]
  },
  {
   "cell_type": "code",
   "execution_count": 8,
   "metadata": {},
   "outputs": [],
   "source": [
    "ex2 = '''\n",
    "<html>\n",
    "    <head>\n",
    "        <title>html 연습</html>\n",
    "    </head>\n",
    "    <body>\n",
    "        <p align = 'center'>text1</p>\n",
    "        <p align = 'center'>text2</p>\n",
    "        <p align = 'right'>text3</p>\n",
    "        <p align = 'left'>text4</p>\n",
    "        <img src='c\\\\temp\\\\image\\\\솔개.png'>\n",
    "    </body>\n",
    "</html>\n",
    "'''"
   ]
  },
  {
   "cell_type": "code",
   "execution_count": 11,
   "metadata": {},
   "outputs": [
    {
     "name": "stdout",
     "output_type": "stream",
     "text": [
      "<p align=\"right\">text3</p>\n",
      "<p align=\"left\">text4</p>\n",
      "[<p align=\"center\">text1</p>, <p align=\"center\">text2</p>]\n"
     ]
    }
   ],
   "source": [
    "soup = BeautifulSoup(ex2, 'html.parser')\n",
    "print(soup.find('p', align = 'right')) #특정 요소의 특정 속성\n",
    "print(soup.find('p', align = 'left'))"
   ]
  },
  {
   "cell_type": "code",
   "execution_count": 13,
   "metadata": {},
   "outputs": [
    {
     "name": "stdout",
     "output_type": "stream",
     "text": [
      "[<p align=\"center\">text1</p>, <p align=\"center\">text2</p>]\n",
      "[<p align=\"center\">text1</p>, <p align=\"center\">text2</p>, <p align=\"right\">text3</p>, <p align=\"left\">text4</p>, <img src=\"c\\temp\\image\\솔개.png\"/>]\n",
      "[<p align=\"center\">text1</p>, <p align=\"center\">text2</p>]\n"
     ]
    }
   ],
   "source": [
    "print(soup.find_all('p', align = 'center')) #find_all() : 결과 list로 반환\n",
    "print(soup.find_all(['p', 'img'])) #여러 요소\n",
    "print(soup.find_all(align = 'center')) #특정 속성"
   ]
  },
  {
   "cell_type": "code",
   "execution_count": null,
   "metadata": {},
   "outputs": [],
   "source": [
    "#string / get_text() : 태그가 가진 내용"
   ]
  },
  {
   "cell_type": "code",
   "execution_count": 16,
   "metadata": {},
   "outputs": [
    {
     "data": {
      "text/plain": [
       "'text1'"
      ]
     },
     "execution_count": 16,
     "metadata": {},
     "output_type": "execute_result"
    }
   ],
   "source": [
    "txt1 = soup.find('p')\n",
    "txt1.string"
   ]
  },
  {
   "cell_type": "code",
   "execution_count": 19,
   "metadata": {},
   "outputs": [
    {
     "name": "stdout",
     "output_type": "stream",
     "text": [
      "text1\n",
      "text2\n",
      "text3\n",
      "text4\n",
      "----------\n",
      "text1\n",
      "text2\n",
      "text3\n",
      "text4\n"
     ]
    }
   ],
   "source": [
    "txt2 = soup.find_all('p')\n",
    "for i in txt2:\n",
    "    print(i.string)\n",
    "print('----------')\n",
    "for i in txt2:\n",
    "        print(i.get_text())"
   ]
  },
  {
   "cell_type": "code",
   "execution_count": 20,
   "metadata": {},
   "outputs": [],
   "source": [
    "ex3 = ''' \n",
    "<html> \n",
    "    <head> \n",
    "        <title> 사야할 과일 </title> \n",
    "    </head> \n",
    "    <body> \n",
    "        <h1> 시장가서 사야할 과일 목록 </h1>\n",
    "            <div>\n",
    "                 <p id='fruits1' class='name1' title='바나나'> 바나나 \n",
    "                   <span class = 'price'> 3000원 </span> \n",
    "                   <span class = 'count'> 10개 </span> \n",
    "                   <span class = 'store'> 바나나가게 </span> \n",
    "                   <a href = 'https://www.fruit1.com'> banana</a> \n",
    "                  </p>\n",
    "            </div> \n",
    "            <div>\n",
    "                 <p id='fruits2' class='name2' title='체리'> 체리 \n",
    "                  <span class = 'price'> 100원 </span> \n",
    "                  <span class = 'count'> 50개 </span> \n",
    "                  <span class = 'store'> 체리가게</span> \n",
    "                  <a href = 'https://www.fruit2.com'> cherry </a>\n",
    "                </p> \n",
    "            </div> \n",
    "            <div>\n",
    "                <p id='fruits3' class='name3' title='오렌지'> 오렌지\n",
    "                  <span class = 'price'> 500원 </span> \n",
    "                  <span class = 'count'> 20개 </span> \n",
    "                  <span class = 'store'> 오렌지가게</span> \n",
    "                  <a href = 'https://www.fruit3.com'> orange </a>\n",
    "                </p> \n",
    "            </div> \n",
    "    </body> \n",
    "</html> '''"
   ]
  },
  {
   "cell_type": "code",
   "execution_count": 36,
   "metadata": {},
   "outputs": [
    {
     "data": {
      "text/plain": [
       "<a href=\"https://www.fruit2.com\"> cherry </a>"
      ]
     },
     "execution_count": 36,
     "metadata": {},
     "output_type": "execute_result"
    }
   ],
   "source": [
    "soup = BeautifulSoup(ex3, 'html.parser')\n",
    "soup.select('p')\n",
    "soup.select('.name1')\n",
    "soup.select('#fruits1')\n",
    "soup.select('div > p > span') #select('상위태그 > 중위태그 > 하위태그') #공백주의\n",
    "soup.select('div > p > span')[6]\n",
    "soup.select('p.name1 > span.store')\n",
    "soup.select('#fruits2 > span.store')\n",
    "soup.select('body > div > p > a')\n",
    "soup.select('a[href]')[1] #href 속성을 가진 <a>"
   ]
  }
 ],
 "metadata": {
  "kernelspec": {
   "display_name": "pydata",
   "language": "python",
   "name": "pydata"
  },
  "language_info": {
   "codemirror_mode": {
    "name": "ipython",
    "version": 3
   },
   "file_extension": ".py",
   "mimetype": "text/x-python",
   "name": "python",
   "nbconvert_exporter": "python",
   "pygments_lexer": "ipython3",
   "version": "3.7.10"
  }
 },
 "nbformat": 4,
 "nbformat_minor": 4
}
