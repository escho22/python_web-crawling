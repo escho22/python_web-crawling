{
 "cells": [
  {
   "cell_type": "code",
   "execution_count": 1,
   "metadata": {},
   "outputs": [],
   "source": [
    "from bs4 import BeautifulSoup\n",
    "from selenium import webdriver\n",
    "import pandas as pd\n",
    "import time\n",
    "import math\n",
    "import os\n",
    "import random\n",
    "import urllib.request #파일 다운로드\n",
    "import urllib\n",
    "import sys"
   ]
  },
  {
   "cell_type": "code",
   "execution_count": 2,
   "metadata": {},
   "outputs": [
    {
     "name": "stdout",
     "output_type": "stream",
     "text": [
      "======================================================================\n",
      "예제 : 대한민국 구석구석 사이트의 여행지 정보 수집\n",
      "======================================================================\n",
      "크롤링 키워드를 입력하세요. : 서울 여행\n",
      "크롤링 최대 건수를 입력하세요. : 12\n"
     ]
    }
   ],
   "source": [
    "print('='*70)\n",
    "print('예제 : 대한민국 구석구석 사이트의 여행지 정보 수집')\n",
    "print('='*70)\n",
    "\n",
    "query_txt = input('크롤링 키워드를 입력하세요. : ')\n",
    "cnt = int(input('크롤링 최대 건수를 입력하세요. : '))\n",
    "page_cnt = math.ceil(cnt/10)"
   ]
  },
  {
   "cell_type": "code",
   "execution_count": 3,
   "metadata": {},
   "outputs": [
    {
     "name": "stdout",
     "output_type": "stream",
     "text": [
      "이미지를 저장할 폴더를 지정하세요.(C:\\CES\\python\\notebook\\data\\images\\) : C:\\CES\\python\\notebook\\data\\images\\\n"
     ]
    }
   ],
   "source": [
    "#이미지 저장 폴더 생성\n",
    "f_dir = input('이미지를 저장할 폴더를 지정하세요.(C:\\\\CES\\\\python\\\\notebook\\\\data\\\\images\\\\) : ')\n",
    "# query_txt = '이미지 저장'\n",
    "\n",
    "now = time.localtime()\n",
    "s = '{}-{}-{}-{}-{}-{}' .format(now.tm_year, now.tm_mon, now.tm_mday, now.tm_hour, now.tm_min, now.tm_sec)\n",
    "\n",
    "r_result_dir = f_dir + s + '-' +query_txt #확인\n",
    "r_result_dir\n",
    "os.makedirs(r_result_dir) #폴더 생성\n",
    "\n",
    "# ff_name = f_dir + s + '-' + query_txt + '\\\\' + s + '-' + query_txt + '.txt'\n",
    "# fc_name = f_dir + s + '-' + query_txt + '\\\\' + s + '-' + query_txt + '.csv'\n",
    "# fx_name = f_dir + s + '-' + query_txt + '\\\\' + s + '-' + query_txt + '.xlsx'"
   ]
  },
  {
   "cell_type": "code",
   "execution_count": 4,
   "metadata": {},
   "outputs": [
    {
     "name": "stdout",
     "output_type": "stream",
     "text": [
      "======================================================================\n",
      "크롤링 키워드 :  서울 여행\n",
      "크롤링 페이지 총 수 :  2\n",
      "======================================================================\n"
     ]
    }
   ],
   "source": [
    "s_time = time.time()\n",
    "path = 'C:/CES/python/datadown/chromedriver.exe'\n",
    "driver = webdriver.Chrome(path)\n",
    "driver.get('https://korean.visitkorea.or.kr/')\n",
    "time.sleep(random.randrange(1,5))\n",
    "\n",
    "try:\n",
    "    driver.find_element_by_xpath('//*[@id=\"safetyStay1\"]/div[1]/div/div/button').click()\n",
    "except:\n",
    "    print('팝업창이 없습니다.')\n",
    "\n",
    "element = driver.find_element_by_id('inp_search')\n",
    "element.send_keys(query_txt)\n",
    "element.send_keys('\\n')\n",
    "\n",
    "html = driver.page_source\n",
    "soup = BeautifulSoup(html, 'html.parser')\n",
    "\n",
    "print('='*70)\n",
    "print('크롤링 키워드 : ', query_txt)\n",
    "print('크롤링 페이지 총 수 : ', page_cnt)\n",
    "print('='*70)"
   ]
  },
  {
   "cell_type": "code",
   "execution_count": 5,
   "metadata": {},
   "outputs": [
    {
     "name": "stdout",
     "output_type": "stream",
     "text": [
      "1 페이지 내용 수집을 시작합니다......\n",
      "5코스서울시티투어 버스를 이용하면 서울여행이 쉬워진다\n",
      "[WinError 123] 파일 이름, 디렉터리 이름 또는 볼륨 레이블 구문이 잘못되었습니다: 'C:\\\\CES\\\\python\\\\notebook\\\\data\\\\images\\\\2021-4-16-16-52-37-서울 여행\\\\4코스낮이 좋아? 밤이 좋아? 서울의 주경, 야경 여행코스'\n",
      "다 같이 돌자 서울 한 바퀴~ 405번 버스 여행\n",
      "0번째 이미지 저장 중입니다......\n",
      "1번째 이미지 저장 중입니다......\n",
      "2번째 이미지 저장 중입니다......\n",
      "3번째 이미지 저장 중입니다......\n",
      "4번째 이미지 저장 중입니다......\n",
      "5번째 이미지 저장 중입니다......\n",
      "6번째 이미지 저장 중입니다......\n",
      "7번째 이미지 저장 중입니다......\n",
      "8번째 이미지 저장 중입니다......\n",
      "9번째 이미지 저장 중입니다......\n",
      "10번째 이미지 저장 중입니다......\n",
      "11번째 이미지 저장 중입니다......\n",
      "대중교통으로 만나는 무장애 여행 ‘서울 600년’\n",
      "0번째 이미지 저장 중입니다......\n",
      "1번째 이미지 저장 중입니다......\n",
      "2번째 이미지 저장 중입니다......\n",
      "3번째 이미지 저장 중입니다......\n",
      "4번째 이미지 저장 중입니다......\n",
      "5번째 이미지 저장 중입니다......\n",
      "6번째 이미지 저장 중입니다......\n",
      "7번째 이미지 저장 중입니다......\n",
      "8번째 이미지 저장 중입니다......\n",
      "9번째 이미지 저장 중입니다......\n",
      "10번째 이미지 저장 중입니다......\n",
      "11번째 이미지 저장 중입니다......\n",
      "12번째 이미지 저장 중입니다......\n",
      "13번째 이미지 저장 중입니다......\n",
      "14번째 이미지 저장 중입니다......\n",
      "15번째 이미지 저장 중입니다......\n",
      "16번째 이미지 저장 중입니다......\n",
      "17번째 이미지 저장 중입니다......\n",
      "18번째 이미지 저장 중입니다......\n",
      "19번째 이미지 저장 중입니다......\n",
      "20번째 이미지 저장 중입니다......\n",
      "21번째 이미지 저장 중입니다......\n",
      "22번째 이미지 저장 중입니다......\n",
      "23번째 이미지 저장 중입니다......\n",
      "24번째 이미지 저장 중입니다......\n",
      "25번째 이미지 저장 중입니다......\n",
      "26번째 이미지 저장 중입니다......\n",
      "27번째 이미지 저장 중입니다......\n",
      "28번째 이미지 저장 중입니다......\n",
      "29번째 이미지 저장 중입니다......\n",
      "30번째 이미지 저장 중입니다......\n",
      "31번째 이미지 저장 중입니다......\n",
      "32번째 이미지 저장 중입니다......\n",
      "33번째 이미지 저장 중입니다......\n",
      "34번째 이미지 저장 중입니다......\n",
      "35번째 이미지 저장 중입니다......\n",
      "36번째 이미지 저장 중입니다......\n",
      "37번째 이미지 저장 중입니다......\n",
      "38번째 이미지 저장 중입니다......\n",
      "39번째 이미지 저장 중입니다......\n",
      "40번째 이미지 저장 중입니다......\n",
      "41번째 이미지 저장 중입니다......\n",
      "42번째 이미지 저장 중입니다......\n",
      "43번째 이미지 저장 중입니다......\n",
      "44번째 이미지 저장 중입니다......\n",
      "45번째 이미지 저장 중입니다......\n",
      "46번째 이미지 저장 중입니다......\n",
      "47번째 이미지 저장 중입니다......\n",
      "48번째 이미지 저장 중입니다......\n",
      "49번째 이미지 저장 중입니다......\n",
      "50번째 이미지 저장 중입니다......\n",
      "51번째 이미지 저장 중입니다......\n",
      "52번째 이미지 저장 중입니다......\n",
      "53번째 이미지 저장 중입니다......\n",
      "54번째 이미지 저장 중입니다......\n",
      "55번째 이미지 저장 중입니다......\n",
      "56번째 이미지 저장 중입니다......\n",
      "57번째 이미지 저장 중입니다......\n"
     ]
    },
    {
     "ename": "KeyboardInterrupt",
     "evalue": "",
     "output_type": "error",
     "traceback": [
      "\u001b[1;31m---------------------------------------------------------------------------\u001b[0m",
      "\u001b[1;31mKeyboardInterrupt\u001b[0m                         Traceback (most recent call last)",
      "\u001b[1;32m<ipython-input-5-3679e6f77bd8>\u001b[0m in \u001b[0;36m<module>\u001b[1;34m\u001b[0m\n\u001b[0;32m     69\u001b[0m \u001b[1;33m\u001b[0m\u001b[0m\n\u001b[0;32m     70\u001b[0m             \u001b[0mfile_no\u001b[0m \u001b[1;33m+=\u001b[0m \u001b[1;36m1\u001b[0m\u001b[1;33m\u001b[0m\u001b[1;33m\u001b[0m\u001b[0m\n\u001b[1;32m---> 71\u001b[1;33m             \u001b[0mtime\u001b[0m\u001b[1;33m.\u001b[0m\u001b[0msleep\u001b[0m\u001b[1;33m(\u001b[0m\u001b[1;36m0.5\u001b[0m\u001b[1;33m)\u001b[0m\u001b[1;33m\u001b[0m\u001b[1;33m\u001b[0m\u001b[0m\n\u001b[0m\u001b[0;32m     72\u001b[0m             \u001b[0mprint\u001b[0m\u001b[1;33m(\u001b[0m\u001b[1;34m'{}번째 이미지 저장 중입니다......'\u001b[0m \u001b[1;33m.\u001b[0m\u001b[0mformat\u001b[0m\u001b[1;33m(\u001b[0m\u001b[0my\u001b[0m\u001b[1;33m)\u001b[0m\u001b[1;33m)\u001b[0m\u001b[1;33m\u001b[0m\u001b[1;33m\u001b[0m\u001b[0m\n\u001b[0;32m     73\u001b[0m \u001b[1;33m\u001b[0m\u001b[0m\n",
      "\u001b[1;31mKeyboardInterrupt\u001b[0m: "
     ]
    }
   ],
   "source": [
    "no2 =[]\n",
    "title2 = []\n",
    "# img_src2 = []\n",
    "no = 1\n",
    "\n",
    "for x in range(1, page_cnt+1):\n",
    "    print('{} 페이지 내용 수집을 시작합니다......' .format(x))\n",
    "    \n",
    "    for i in range(1, 12): #중간 광고\n",
    "        if no > cnt:\n",
    "            break\n",
    "        \n",
    "        #상세페이지 클릭\n",
    "        try:\n",
    "            driver.find_element_by_xpath('''//*[@id=\"listBody\"]/ul/li[{}]/div[2]/div[1]/a''' .format(i)).click()\n",
    "        except:\n",
    "            continue\n",
    "        \n",
    "        time.sleep(random.randrange(1,5))\n",
    "        \n",
    "        img_src2 = list()\n",
    "        html = driver.page_source\n",
    "        soup = BeautifulSoup(html, 'html.parser')\n",
    "        \n",
    "        #디렉토리 설정\n",
    "        try:\n",
    "            title = soup.find('div', id='contents').find('h2').get_text()\n",
    "            os.makedirs(r_result_dir + '\\\\' + title)\n",
    "            print(title)\n",
    "            os.chdir(r_result_dir + '\\\\' + title)\n",
    "        except Exception as e:\n",
    "            print(e)\n",
    "\n",
    "        try: #유형1\n",
    "            img_src = soup.find('div', 'box_txtPhoto').find_all('img')\n",
    "            \n",
    "            for n in img_src:\n",
    "                img_src1 = n['src']\n",
    "                img_src2.append(img_src1)\n",
    "\n",
    "            result_txt = '게시물 {}) 유형1: 이미지 저장을 완료했습니다......' .format(no)\n",
    "            \n",
    "        except:\n",
    "            try: #유형2\n",
    "                driver.find_element_by_xpath('//*[@id=\"contents\"]/div[2]/div[6]/div[1]/div[2]/div/ul/li[{}]/a/span' .format(i)).click\n",
    "                time.sleep(1)\n",
    "\n",
    "                tag1 = soupt.find('div', 'cos_cont active')\n",
    "                tag2 = tag1.find('div', 'info_area pc').find_all('a')\n",
    "                \n",
    "                for m in tag2:\n",
    "                    style = m['style'].split('(')[1].split(')')[0]\n",
    "                    img_src2.append(style)\n",
    "                \n",
    "                result_txt = '게시물 {}) 유형2: 이미지 저장을 완료했습니다......' .format(no)\n",
    "            except:\n",
    "                result_txt = '게시물 {}) 유형3: 이미지 저장을 실패했습니다......' .format(no)\n",
    "                driver.back()\n",
    "                continue\n",
    "                \n",
    "        file_no = 0\n",
    "        for y in range(0, len(img_src2)):\n",
    "            try:\n",
    "                urllib.request.urlretrieve(img_src2[y], str(file_no)+'.jpg')\n",
    "#                 print(img_src2[y], str(y)+'.jpg')\n",
    "            except Exception as e:\n",
    "                print(e)\n",
    "                continue\n",
    "\n",
    "            file_no += 1\n",
    "            time.sleep(0.5)\n",
    "            print('{}번째 이미지 저장 중입니다......' .format(y))\n",
    "        \n",
    "        driver.back()\n",
    "        time.sleep(1)\n",
    "        no += 1\n",
    "        \n",
    "    if x > page_cnt:\n",
    "        break\n",
    "    \n",
    "    x += 1\n",
    "    \n",
    "    if(x % 5 == 1) :\n",
    "        driver.find_element_by_link_text('다음').click()\n",
    "    else:\n",
    "        driver.find_element_by_link_text('{}' .format(x)).click()\n",
    "        \n",
    "    time.sleep(1)"
   ]
  },
  {
   "cell_type": "code",
   "execution_count": null,
   "metadata": {},
   "outputs": [],
   "source": [
    "img_src2"
   ]
  },
  {
   "cell_type": "code",
   "execution_count": null,
   "metadata": {},
   "outputs": [],
   "source": [
    "file_no"
   ]
  },
  {
   "cell_type": "code",
   "execution_count": null,
   "metadata": {},
   "outputs": [],
   "source": []
  }
 ],
 "metadata": {
  "kernelspec": {
   "display_name": "pydata",
   "language": "python",
   "name": "pydata"
  },
  "language_info": {
   "codemirror_mode": {
    "name": "ipython",
    "version": 3
   },
   "file_extension": ".py",
   "mimetype": "text/x-python",
   "name": "python",
   "nbconvert_exporter": "python",
   "pygments_lexer": "ipython3",
   "version": "3.7.10"
  }
 },
 "nbformat": 4,
 "nbformat_minor": 4
}
